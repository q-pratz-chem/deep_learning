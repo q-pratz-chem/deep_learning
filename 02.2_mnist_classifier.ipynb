{
  "cells": [
    {
      "cell_type": "markdown",
      "metadata": {
        "id": "view-in-github",
        "colab_type": "text"
      },
      "source": [
        "<a href=\"https://colab.research.google.com/github/q-pratz-chem/deep_learning/blob/main/02.2_mnist_classifier.ipynb\" target=\"_parent\"><img src=\"https://colab.research.google.com/assets/colab-badge.svg\" alt=\"Open In Colab\"/></a>"
      ]
    },
    {
      "cell_type": "markdown",
      "metadata": {
        "id": "I8_UcIsAohuf"
      },
      "source": [
        "![Practicum AI Logo image](https://github.com/q-pratz-chem/deep_learning/blob/main/images/practicum_ai_logo.png?raw=1) <img src='https://github.com/q-pratz-chem/deep_learning/blob/main/images/practicumai_deep_learning.png?raw=1' alt='Practicum AI: Deep Learning Foundations icon' align='right' width=50>\n",
        "\n",
        "***\n",
        "# *Practicum AI:* Deep Learning - MNIST Classifier\n",
        "\n",
        "This exercise adapted from Baig et al. (2020) <i>The Deep Learning Workshop</i> from <a href=\"https://www.packtpub.com/product/the-deep-learning-workshop/9781839219856\">Packt Publishers</a> (Exercise 2.07, page 92).\n",
        "\n",
        "## Amelia's AI Adventure Continues...\n",
        "\n",
        "<img alt=\"A cartoon of Dr. Amelia's dog looking at a computer with a stack of papers next to it showing some handwritten digits.\" src=\"https://github.com/q-pratz-chem/deep_learning/blob/main/images/Amelias_Dog_MNIST.jpg?raw=1\" padding=20 align=\"right\" width=250>Amelia and her nutrition studies are back! After her adventures with image recognition and binary classification, she's curious to dive deeper.\n",
        "\n",
        "While Amelia's data collection process is working for most participants in her study, some do not like using the phone application to submit their survey responses. They keep sending in handwritten responses. Realizing that the data from these study participants is still vital to her research, Dr. Amelia is now looking to automate entering these responses using a program to read the numbers that make up the survey responses.\n",
        "\n",
        "Again, Amelia decides to start with the basics: recognizing handwritten numbers. That's where the MNIST dataset comes in. With its vast collection of handwritten digits, it's the perfect training ground for Amelia's next AI venture.\n",
        "\n",
        "**Note:** The cartoon of Dr Amelia's dog was generated with AI's assistance.\n",
        "\n",
        "Training a model on the MNIST dataset is often considered the \"Hello world!\" of AI. It is a commonly used first introduction to image recognition with deep learning.\n",
        "\n",
        "\n",
        "![AI Application Development Pathway model](https://github.com/PracticumAI/deep_learning_2_draft/blob/main/M3-AppDev.00_00_22_23.Still001.png?raw=true)\n",
        "\n",
        " >&#128221; While you're going through this notebook, see if you can figure out which steps here are associated with each of the steps of the Development Pathway.\n",
        "\n",
        "## MNIST Handwritten Digit Classification Dataset\n",
        "\n",
        "The [MNIST](http://yann.lecun.com/exdb/mnist/) (Modified National Institute of Standards and Technology) training dataset contains 60,000 28×28 pixel grayscale images of handwritten single digits between 0 and 9, with an additional 10,000 images available for testing.\n",
        "\n",
        "The MNIST dataset is frequently used in machine learning research and has become a standard benchmark for image classification models. Top-performing models often achieve a classification accuracy above 99%, with an error rate between 0.4% and 0.2% on the hold-out test dataset.\n",
        "\n",
        "In this exercise, you will implement a deep neural network (multi-layer) capable of classifying these images of handwritten digits into one of 10 classes.\n",
        "\n",
        "Amelia knows that to start any AI project, she'll need the right tools. She begins by importing the necessary libraries to set the stage for her digit-reading neural network.\n",
        "\n",
        "## 1. Import libraries\n",
        "\n",
        "Import the necessary libraries."
      ]
    },
    {
      "cell_type": "code",
      "execution_count": 50,
      "metadata": {
        "id": "dEUfgPnxohum"
      },
      "outputs": [],
      "source": [
        "import tensorflow as tf   # Import the TensorFlow library, which provides tools for machine learning and deep learning.\n",
        "import pandas as pd\n",
        "import numpy as np\n",
        "\n",
        "import matplotlib.pyplot as plt  # Import the matplotlib library for plotting and visualization.\n",
        "# This line allows for the display of plots directly within the Jupyter notebook interface.\n",
        "%matplotlib inline\n",
        "\n",
        "# Import Keras libraries\n",
        "from tensorflow.keras.models import Sequential  # Import the Sequential model: a linear stack of layers from Keras module in TensorFlow.\n",
        "from tensorflow.keras.layers import Dense  # Import the Dense layer: a fully connected neural network layer from Keras module in TensorFlow.\n",
        "from tensorflow.keras.layers import Flatten  # Import the Flatten layer: used to convert input data into a 1D array from Keras module in TensorFlow."
      ]
    },
    {
      "cell_type": "markdown",
      "metadata": {
        "id": "QJuoJYwvohuo"
      },
      "source": [
        "## 2. Load the MNIST dataset\n",
        "\n",
        "Amelia will need to import the MNIST dataset from the [Keras module](https://keras.io/api/datasets/mnist/). The `train_features` and `test_features` variables contain the training and test images, while `train_labels` and `test_labels` contain the corresponding labels for each item in those datasets.  \n",
        "\n",
        "```python\n",
        "# Import the MNIST dataset from TensorFlow's Keras datasets module\n",
        "mnist = tf.keras.datasets.mnist\n",
        "\n",
        "# Load the MNIST dataset:\n",
        "# - train_features and train_labels are the training images and their corresponding labels.\n",
        "# - test_features and test_labels are the testing images and their corresponding labels.\n",
        "(train_features,train_labels), (test_features,test_labels) = mnist.load_data()\n",
        "```"
      ]
    },
    {
      "cell_type": "code",
      "execution_count": 51,
      "metadata": {
        "id": "wVh7qFepohup"
      },
      "outputs": [],
      "source": [
        "# Code it!\n",
        "mnist = tf.keras.datasets.mnist\n",
        "(train_features,train_labels), (test_features,test_labels) = mnist.load_data()"
      ]
    },
    {
      "cell_type": "markdown",
      "metadata": {
        "id": "VIrj00Ymohup"
      },
      "source": [
        "## 3. Visualize the data\n",
        "\n",
        "Before we start to work with data, it is always good to get a better idea of what we are working with.\n",
        "\n",
        "How many images do we have in our training and testing datasets? (Hint, remember the `len()` function.)"
      ]
    },
    {
      "cell_type": "code",
      "execution_count": 52,
      "metadata": {
        "id": "hdcXH9G9ohvI",
        "outputId": "26bc8579-768a-4950-92d7-acdc061c9e86",
        "colab": {
          "base_uri": "https://localhost:8080/"
        }
      },
      "outputs": [
        {
          "output_type": "execute_result",
          "data": {
            "text/plain": [
              "(60000, 28, 28)"
            ]
          },
          "metadata": {},
          "execution_count": 52
        }
      ],
      "source": [
        "# Code it!\n",
        "train_features.shape\n",
        "#len(train_features)\n",
        "# train_labels.shape\n",
        "# test_features.shape\n",
        "# test_labels.shape"
      ]
    },
    {
      "cell_type": "markdown",
      "metadata": {
        "id": "VIKMrB6IohvJ"
      },
      "source": [
        "Let's have a look at a random image."
      ]
    },
    {
      "cell_type": "code",
      "execution_count": 53,
      "metadata": {
        "tags": [],
        "id": "Wuz30ROVohvK",
        "outputId": "c3470278-027a-4136-c350-52811368fc14",
        "colab": {
          "base_uri": "https://localhost:8080/",
          "height": 430
        }
      },
      "outputs": [
        {
          "output_type": "display_data",
          "data": {
            "text/plain": [
              "<Figure size 640x480 with 1 Axes>"
            ],
            "image/png": "[encoded data removed]"
          },
          "metadata": {}
        }
      ],
      "source": [
        "# Set line width for numpy array printing\n",
        "np.set_printoptions(linewidth=150)\n",
        "\n",
        "# Select a random number from train_features\n",
        "select = np.random.randint(0,len(train_features))\n",
        "\n",
        "# Print the image array - longer line length above should allow it to have all 28 rows in 1 line\n",
        "#print(train_features[select])\n",
        "\n",
        "# Display the image as an actual image\n",
        "plt.imshow(train_features[select], cmap='gray')\n",
        "plt.show()\n",
        "\n",
        "# Print the true label for the image from train_labels\n",
        "#print(f\"The true label for this image is a {train_labels[select]}.\")"
      ]
    },
    {
      "cell_type": "markdown",
      "metadata": {
        "id": "t7Jyw8bTohvL"
      },
      "source": [
        "The ouptut of the cell above should help clarify how images are encoded in our data. Each pixel has a value from 0 (black) to 255 (white). Since our images are black and white, we only have one grid of pixels. For color images, we would have three: one for each color, red, green, blue.\n",
        "\n",
        "Our datasets have 60,000 images in the `train_features` and 10,000 images in the `test_features`. We will use these data as we move forward."
      ]
    },
    {
      "cell_type": "markdown",
      "metadata": {
        "id": "Sfvfwrp1ohvL"
      },
      "source": [
        "## 4. Normalize the data\n",
        "\n",
        "Before we normalize the data, look to see what the current maximum value is in `train_features`."
      ]
    },
    {
      "cell_type": "code",
      "execution_count": 54,
      "metadata": {
        "id": "axdrPQBoohvM",
        "outputId": "512a6616-dd43-4ea2-99bf-4ee420773fe1",
        "colab": {
          "base_uri": "https://localhost:8080/"
        }
      },
      "outputs": [
        {
          "output_type": "execute_result",
          "data": {
            "text/plain": [
              "255"
            ]
          },
          "metadata": {},
          "execution_count": 54
        }
      ],
      "source": [
        "# Code it! What is the max value of train_features?\n",
        "train_features.max()"
      ]
    },
    {
      "cell_type": "markdown",
      "metadata": {
        "id": "0-QochhiohvM"
      },
      "source": [
        "\n",
        "Amelia normalizes the data to ensure her AI model can efficiently process these images. Processing your features so that they are represented by numbers between 0 and 1 is a best practice for AI model development.\n",
        "\n",
        "Normalize the data by scaling the images so their values are between 0 and 1.\n",
        "\n",
        "```python\n",
        "# Normalize the pixel values of the training and testing images to be between 0 and 1.\n",
        "# This is done by dividing each pixel value by 255 (the maximum pixel value for an 8-bit image).\n",
        "# Normalizing improves the training process and convergence.\n",
        "train_features, test_features = train_features / 255.0, test_features / 255.0\n",
        "```"
      ]
    },
    {
      "cell_type": "code",
      "execution_count": 55,
      "metadata": {
        "id": "_SOQF5AXohvM"
      },
      "outputs": [],
      "source": [
        "# Code it!\n",
        "train_features, test_features = train_features / 255.0, test_features / 255.0"
      ]
    },
    {
      "cell_type": "markdown",
      "metadata": {
        "id": "gdGCsRspohvN"
      },
      "source": [
        "Look at the maximum value of `train features` after normalization."
      ]
    },
    {
      "cell_type": "code",
      "execution_count": 56,
      "metadata": {
        "id": "oY_IdJGGohvN",
        "outputId": "98399350-2871-41df-c7dd-aa2937ebb137",
        "colab": {
          "base_uri": "https://localhost:8080/"
        }
      },
      "outputs": [
        {
          "output_type": "execute_result",
          "data": {
            "text/plain": [
              "1.0"
            ]
          },
          "metadata": {},
          "execution_count": 56
        }
      ],
      "source": [
        "# Code it! After normalization, what is the max value of train_features?\n",
        "train_features.max()"
      ]
    },
    {
      "cell_type": "markdown",
      "metadata": {
        "id": "UhB0K_K9ohvN"
      },
      "source": [
        "## 5. Build the sequential model\n",
        "\n",
        "Now, the fun part begins! Amelia sets out to build her neural network. In the previous exercises, Amelia called a pre-trained model for image recognition and then built a single-layer network for her binary classifier. With her confidence high, she is going to create this model herself out of multiple layers. This approach gives her (and you!) the most control over the function of the model.\n",
        "\n",
        "Using the Sequential API, build your model according to the following details:\n",
        "\n",
        "* First, add a flattened layer to unroll the 28x28 pixel images into a single array of 784. The model should use the input_shape in the function argument to set the input size in the first layer.\n",
        "* Add a dense hidden layer with 50 units (neurons) and ReLU (Rectified Linear Unit) activation function.\n",
        "   * The ReLU function will allow the model to capture non-linearities.\n",
        "* Add a second, dense hidden layer with 20 units and ReLU activation function.\n",
        "* Add a dense output layer with 10 units and the softmax activation function.\n",
        "   * We use ten neurons, each representing the digits 0-9.\n",
        "   * The softmax function ensures the output values are probabilities that sum to 1, making it suitable for classification.\n",
        "\n",
        "Here's a graphical view of what we are doing:\n",
        "\n",
        "![A diagram of the neural network being created. It shows the input 28X28 image being flattened into a 784 dimension array. That is the input. There are two hidden, fully connected layers with 50 and 20 neurons each. The final output layer has 10 neurons for the 10 classes in our model.](https://github.com/q-pratz-chem/deep_learning/blob/main/images/MNIST_neural_network.png?raw=1)\n",
        "\n",
        "\n",
        "Your completed neural network should have four layers. Feel free to experiment with different architectures and build your own model.\n",
        "\n",
        "```python\n",
        "# Instantiate a Sequential model, which allows us to build a neural network by stacking layers in a linear fashion.\n",
        "model = Sequential()\n",
        "\n",
        "# Add a Flatten layer to the model which transforms a 2D matrix (28x28 pixels) into a 1D array.\n",
        "# This is necessary because our input images are 28x28 pixels, and we need to flatten them to feed into a dense layer.\n",
        "model.add(Flatten(input_shape=(28,28)))\n",
        "\n",
        "# Add a Dense (fully connected) layer with 50 units and a ReLU activation function.\n",
        "model.add(Dense(units=50, activation='relu'))\n",
        "\n",
        "# Add another Dense layer with 20 units and a ReLU activation function.\n",
        "model.add(Dense(units=20, activation='relu'))\n",
        "\n",
        "# Add a final Dense layer with 10 units and a softmax activation function.\n",
        "model.add(Dense(units=10, activation='softmax'))\n",
        "```"
      ]
    },
    {
      "cell_type": "code",
      "execution_count": 57,
      "metadata": {
        "id": "NMEtDLLvohvN"
      },
      "outputs": [],
      "source": [
        "# Code it!\n",
        "model = Sequential()\n",
        "model.add(Flatten(input_shape=(28,28)))\n",
        "model.add(Dense(units=50, activation='relu'))\n",
        "model.add(Dense(units=20, activation='relu'))\n",
        "model.add(Dense(units=10, activation='softmax'))"
      ]
    },
    {
      "cell_type": "markdown",
      "metadata": {
        "id": "Fs_R8If6ohvN"
      },
      "source": [
        "## 6. Compile the model\n",
        "\n",
        "Compiling is the next step. Here, Amelia will specify the parts of the model that are not in the layers, namely the optimizer, loss function, and performance metric.\n",
        "\n",
        "To `compile` the model, you need to specify an optimizer, a loss function, and a metric to judge your model's performance.\n",
        "\n",
        "Compile the model with the following specifications:\n",
        "* `adam` optimizer: An optimization algorithm that adjusts the model weights to minimize the loss.\n",
        "* `sparse_categorical_crossentropy` loss function: Suitable for classification tasks with integer labels.\n",
        "* `accuracy` metric: To monitor the accuracy of the model's predictions during training and evaluation.\n",
        "\n",
        "```python\n",
        "model.compile(optimizer='adam', loss='sparse_categorical_crossentropy', metrics=['accuracy'])\n",
        "```"
      ]
    },
    {
      "cell_type": "code",
      "execution_count": 64,
      "metadata": {
        "id": "rgffe8EnohvO"
      },
      "outputs": [],
      "source": [
        "# Code it!\n",
        "model.compile(optimizer='adam', loss='sparse_categorical_crossentropy', metrics=['accuracy'])"
      ]
    },
    {
      "cell_type": "markdown",
      "metadata": {
        "id": "VH8tv5vvohvO"
      },
      "source": [
        "## 7. Inspect the model configuration using the summary function\n",
        "\n",
        "Display a summary of the model's architecture, including the layers, their shapes, and the number of parameters.\n",
        "\n",
        "```python\n",
        "model.summary()\n",
        "```"
      ]
    },
    {
      "cell_type": "code",
      "execution_count": 65,
      "metadata": {
        "id": "6H33bmM-ohvO",
        "outputId": "34cc5b99-1649-4d7e-f064-065a871ccbb3",
        "colab": {
          "base_uri": "https://localhost:8080/"
        }
      },
      "outputs": [
        {
          "output_type": "stream",
          "name": "stdout",
          "text": [
            "Model: \"sequential_1\"\n",
            "_________________________________________________________________\n",
            " Layer (type)                Output Shape              Param #   \n",
            "=================================================================\n",
            " flatten_1 (Flatten)         (None, 784)               0         \n",
            "                                                                 \n",
            " dense_3 (Dense)             (None, 50)                39250     \n",
            "                                                                 \n",
            " dense_4 (Dense)             (None, 20)                1020      \n",
            "                                                                 \n",
            " dense_5 (Dense)             (None, 10)                210       \n",
            "                                                                 \n",
            "=================================================================\n",
            "Total params: 40480 (158.12 KB)\n",
            "Trainable params: 40480 (158.12 KB)\n",
            "Non-trainable params: 0 (0.00 Byte)\n",
            "_________________________________________________________________\n"
          ]
        }
      ],
      "source": [
        "# Code it!\n",
        "model.summary()"
      ]
    },
    {
      "cell_type": "markdown",
      "metadata": {
        "id": "BdUHelvmohvO"
      },
      "source": [
        "The model summary indicates that this model has 40,480 parameters (weights and biases). **Note**: If your model summary does not show `Total params: 40480`, double check your model was set up correctly."
      ]
    },
    {
      "cell_type": "markdown",
      "metadata": {
        "id": "QbyYtuFQohvP"
      },
      "source": [
        "## 8. Fit the model to the training data\n",
        "\n",
        "Now, train the model on the MNIST dataset using the `fit` method. Set the training to run for 10 epochs.\n",
        "\n",
        "Train the model using the training data:\n",
        "* `train_features`: the input images\n",
        "* `train_labels`: the true labels for each image\n",
        "* `epochs=10`: the number of times the model will cycle through the entire dataset\n",
        "\n",
        "```python\n",
        "\n",
        "model.fit(train_features, train_labels, epochs=10)\n",
        "```"
      ]
    },
    {
      "cell_type": "code",
      "execution_count": 66,
      "metadata": {
        "id": "I1r_GqU4ohvP",
        "outputId": "53c50e64-50f7-4ff2-bf44-1b6c0977cf51",
        "colab": {
          "base_uri": "https://localhost:8080/"
        }
      },
      "outputs": [
        {
          "output_type": "stream",
          "name": "stdout",
          "text": [
            "Epoch 1/10\n",
            "1875/1875 [==============================] - 6s 3ms/step - loss: 0.3291 - accuracy: 0.9035\n",
            "Epoch 2/10\n",
            "1875/1875 [==============================] - 4s 2ms/step - loss: 0.1495 - accuracy: 0.9557\n",
            "Epoch 3/10\n",
            "1875/1875 [==============================] - 6s 3ms/step - loss: 0.1139 - accuracy: 0.9652\n",
            "Epoch 4/10\n",
            "1875/1875 [==============================] - 8s 4ms/step - loss: 0.0945 - accuracy: 0.9710\n",
            "Epoch 5/10\n",
            "1875/1875 [==============================] - 10s 5ms/step - loss: 0.0794 - accuracy: 0.9759\n",
            "Epoch 6/10\n",
            "1875/1875 [==============================] - 7s 4ms/step - loss: 0.0714 - accuracy: 0.9778\n",
            "Epoch 7/10\n",
            "1875/1875 [==============================] - 8s 4ms/step - loss: 0.0630 - accuracy: 0.9803\n",
            "Epoch 8/10\n",
            "1875/1875 [==============================] - 7s 4ms/step - loss: 0.0550 - accuracy: 0.9830\n",
            "Epoch 9/10\n",
            "1875/1875 [==============================] - 5s 2ms/step - loss: 0.0503 - accuracy: 0.9841\n",
            "Epoch 10/10\n",
            "1875/1875 [==============================] - 6s 3ms/step - loss: 0.0449 - accuracy: 0.9855\n"
          ]
        },
        {
          "output_type": "execute_result",
          "data": {
            "text/plain": [
              "<keras.src.callbacks.History at 0x7c0a2e5f0880>"
            ]
          },
          "metadata": {},
          "execution_count": 66
        }
      ],
      "source": [
        "# Code it!\n",
        "model.fit(train_features, train_labels, epochs=10)"
      ]
    },
    {
      "cell_type": "markdown",
      "metadata": {
        "id": "G1s5rNvvohvP"
      },
      "source": [
        "## 9. Evaluate the model\n",
        "\n",
        "Finally, evaluate your model's performance on the test set by calling the model's `evaluate()` method.\n",
        "\n",
        "\n",
        "Evaluate the model's performance using the testing data:\n",
        "* `test_features`: the input images from the testing set\n",
        "* `test_labels`: the true labels for each image in the testing set\n",
        "\n",
        "The `evaluate` method returns the loss value and any additional metrics (in this case, accuracy) for the model on the testing data.\n",
        "\n",
        "```python\n",
        "model.evaluate(test_features, test_labels)\n",
        "```"
      ]
    },
    {
      "cell_type": "code",
      "execution_count": 67,
      "metadata": {
        "id": "7_ANeVc6ohvP",
        "outputId": "b328121d-5f24-41e0-bd33-d2d8f7147159",
        "colab": {
          "base_uri": "https://localhost:8080/"
        }
      },
      "outputs": [
        {
          "output_type": "stream",
          "name": "stdout",
          "text": [
            "313/313 [==============================] - 1s 2ms/step - loss: 0.1134 - accuracy: 0.9695\n"
          ]
        },
        {
          "output_type": "execute_result",
          "data": {
            "text/plain": [
              "[0.11337291449308395, 0.9695000052452087]"
            ]
          },
          "metadata": {},
          "execution_count": 67
        }
      ],
      "source": [
        "# Code it!\n",
        "model.evaluate(test_features, test_labels)"
      ]
    },
    {
      "cell_type": "markdown",
      "metadata": {
        "id": "ZSIqMrUKohvP"
      },
      "source": [
        "## 10. Model predictions\n",
        "\n",
        "Let's see how the model performs on some randomly selected images.  Are its predictions correct?  \n",
        "\n",
        "Randomly select an image from the test dataset, in this case, the 200th image.\n",
        "\n",
        "Select a specific image from the test dataset for examination or prediction.\n",
        "\n",
        "The variable `loc` is set to the index 200, which means we are selecting the 201st image (0-based index) from the test dataset.\n",
        "\n",
        "```python\n",
        "loc = 200\n",
        "\n",
        "# Extract the corresponding image from the test_features array and store it in the 'test_image' variable.\n",
        "test_image = test_features[loc]\n",
        "```"
      ]
    },
    {
      "cell_type": "code",
      "execution_count": 72,
      "metadata": {
        "id": "LXctyKFcohvQ"
      },
      "outputs": [],
      "source": [
        "# Code it!\n",
        "loc = 200\n",
        "test_image = test_features[loc]"
      ]
    },
    {
      "cell_type": "markdown",
      "metadata": {
        "id": "S9bXYhxiohvQ"
      },
      "source": [
        "First, let's take a look at the shape of the image.\n",
        "\n",
        "* Get and display the shape (dimensions) of the `test_image` variable.\n",
        "* This provides insight into the structure and size of the image.\n",
        "\n",
        "```python\n",
        "test_image.shape\n",
        "```"
      ]
    },
    {
      "cell_type": "code",
      "execution_count": 73,
      "metadata": {
        "id": "mIEuYC7uohvQ",
        "outputId": "98e7bd2b-6495-4102-80c1-be375cfed947",
        "colab": {
          "base_uri": "https://localhost:8080/"
        }
      },
      "outputs": [
        {
          "output_type": "execute_result",
          "data": {
            "text/plain": [
              "(28, 28)"
            ]
          },
          "metadata": {},
          "execution_count": 73
        }
      ],
      "source": [
        "# Code it!\n",
        "test_image.shape"
      ]
    },
    {
      "cell_type": "markdown",
      "metadata": {
        "id": "uYo5Yyl2ohvQ"
      },
      "source": [
        "We see that our image is 28x28 pixels. However, the model needs not just the size of the image but also the number of channels. A simple call to the `reshape()` method fixes that problem.\n",
        "\n",
        "* Reshape the 'test_image' from a 2D array (28x28) to a 3D array (1x28x28).\n",
        "* This is commonly done to match the input shape that the model expects when making predictions on single samples.\n",
        "\n",
        "```python\n",
        "test_image = test_image.reshape(1,28,28)\n",
        "```"
      ]
    },
    {
      "cell_type": "code",
      "execution_count": 74,
      "metadata": {
        "id": "GvsJ5d7GohvQ"
      },
      "outputs": [],
      "source": [
        "# Code it!\n",
        "test_image = test_image.reshape(1,28,28)"
      ]
    },
    {
      "cell_type": "markdown",
      "metadata": {
        "id": "a8tX14JAohvR"
      },
      "source": [
        "Now call the model's `predict()` method, assign the output to result, and then view its contents.\n",
        "\n",
        "* Use the trained model to predict the label for the `test_image`.\n",
        "* The `predict` method returns an array of probabilities for each possible label (in the case of MNIST, digits 0-9).\n",
        "* Each value in the array corresponds to the model's predicted probability that the image belongs to a particular class (digit).\n",
        "\n",
        "```python\n",
        "result = model.predict(test_image)\n",
        "\n",
        "# Print the array of probabilities to the console.\n",
        "print(result)\n",
        "```"
      ]
    },
    {
      "cell_type": "code",
      "execution_count": 75,
      "metadata": {
        "id": "bP_1mZ_WohvR",
        "outputId": "837df6e8-2bc9-41ba-ed20-b0ae4ba3edbc",
        "colab": {
          "base_uri": "https://localhost:8080/"
        }
      },
      "outputs": [
        {
          "output_type": "stream",
          "name": "stdout",
          "text": [
            "1/1 [==============================] - 0s 91ms/step\n",
            "[[3.6996315e-13 1.2362332e-12 8.0920296e-07 9.9991691e-01 3.6190067e-13 8.1858589e-06 2.1593877e-17 2.0906785e-15 7.3992545e-05 5.4675242e-09]]\n"
          ]
        }
      ],
      "source": [
        "# Code it!\n",
        "result = model.predict(test_image)\n",
        "print(result)"
      ]
    },
    {
      "cell_type": "markdown",
      "metadata": {
        "id": "SfG9BIY9ohvR"
      },
      "source": [
        "As we see, the model has returned the probability of 10 predictions, with the highest one being the most likely.  Use the `argmax` function to see the model's prediction.\n",
        "\n",
        "* Use the `argmax` method to find the index (label) of the maximum value in the `result` array.\n",
        "   * This gives us the model's most likely prediction for the class (digit) of the `test_image`.\n",
        "\n",
        "```python\n",
        "result.argmax()\n",
        "```"
      ]
    },
    {
      "cell_type": "code",
      "execution_count": 76,
      "metadata": {
        "id": "5tKUVtBHohvR",
        "outputId": "0c12439f-480b-45a0-c445-30030151b393",
        "colab": {
          "base_uri": "https://localhost:8080/"
        }
      },
      "outputs": [
        {
          "output_type": "execute_result",
          "data": {
            "text/plain": [
              "3"
            ]
          },
          "metadata": {},
          "execution_count": 76
        }
      ],
      "source": [
        "# Code it!\n",
        "result.argmax()"
      ]
    },
    {
      "cell_type": "markdown",
      "metadata": {
        "id": "9O68KJ3oohvS"
      },
      "source": [
        "To verify the prediction, check the label of the corresponding image.\n",
        "\n",
        "\n",
        "* Using the index loc, retrieve the true label (actual digit) for the `test_image` from the `test_labels` array.\n",
        "   * This gives us the actual class (digit) of the `test_image` to compare with the model's prediction.\n",
        "\n",
        "```python\n",
        "test_labels[loc]\n",
        "```"
      ]
    },
    {
      "cell_type": "code",
      "execution_count": 77,
      "metadata": {
        "id": "E7xID6N-ohvS",
        "outputId": "8767363b-1946-4521-8627-dc276e268f84",
        "colab": {
          "base_uri": "https://localhost:8080/"
        }
      },
      "outputs": [
        {
          "output_type": "execute_result",
          "data": {
            "text/plain": [
              "3"
            ]
          },
          "metadata": {},
          "execution_count": 77
        }
      ],
      "source": [
        "# Code it!\n",
        "test_labels[loc]"
      ]
    },
    {
      "cell_type": "markdown",
      "metadata": {
        "id": "Pc8a91CJohvS"
      },
      "source": [
        "Finally, visualize the image with pyplot.\n",
        "\n",
        "* Use the `imshow` function from the `matplotlib` library to display the `test_image` as a visual image.\n",
        "   * This helps in visually examining the content of the `test_image` (which is represented as a 28x28 array of pixel values).\n",
        "\n",
        "```python\n",
        "plt.imshow(test_features[loc])\n",
        "```"
      ]
    },
    {
      "cell_type": "code",
      "execution_count": 78,
      "metadata": {
        "id": "ZqxmCEEaohvc",
        "outputId": "eb68bf82-9c3d-4d30-bd82-dd61107d192e",
        "colab": {
          "base_uri": "https://localhost:8080/",
          "height": 447
        }
      },
      "outputs": [
        {
          "output_type": "execute_result",
          "data": {
            "text/plain": [
              "<matplotlib.image.AxesImage at 0x7c0a44ffd510>"
            ]
          },
          "metadata": {},
          "execution_count": 78
        },
        {
          "output_type": "display_data",
          "data": {
            "text/plain": [
              "<Figure size 640x480 with 1 Axes>"
            ],
            "image/png": "[encoded data removed]"
          },
          "metadata": {}
        }
      ],
      "source": [
        "# Code it!\n",
        "plt.imshow(test_features[loc])"
      ]
    },
    {
      "cell_type": "markdown",
      "metadata": {
        "id": "EjG3_I64ohvd"
      },
      "source": [
        "And we did it! We helped Amelia create a model that can recognize handwritten digits!\n",
        "\n",
        "\n",
        "## Bonus exercise\n",
        "\n",
        "* Write a function that ties all these steps into one function call. The function should take an input image and print the image with the predicted digit and true digit."
      ]
    },
    {
      "cell_type": "markdown",
      "metadata": {
        "tags": [],
        "id": "lDx9BTgCohvd"
      },
      "source": [
        "## Before continuing\n",
        "###  <img src='https://github.com/q-pratz-chem/deep_learning/blob/main/images/alert_icon.svg?raw=1' alt=\"Alert icon\" width=40 align=center> Alert!\n",
        "> Before continuing to another notebook within the same Jupyter session,\n",
        "> use the **\"Running Terminals and Kernels\" tab** (below the File Browser tab) to **shut down this kernel**.\n",
        "> This will free up this notebook's GPU memory, making it available for\n",
        "> your next notebook.\n",
        ">\n",
        "> Every time you run multiple notebooks within a Jupyter session with a GPU, this should be done.\n",
        ">\n",
        "> ![Screenshot of the Running Terminals and Kernels tab used t oshut down kernels before starting a new notebook](https://github.com/q-pratz-chem/deep_learning/blob/main/images/stop_kernel.png?raw=1)"
      ]
    }
  ],
  "metadata": {
    "kernelspec": {
      "display_name": "Tensorflow-2.7.0",
      "language": "python",
      "name": "tensorflow-2.7.0"
    },
    "language_info": {
      "codemirror_mode": {
        "name": "ipython",
        "version": 3
      },
      "file_extension": ".py",
      "mimetype": "text/x-python",
      "name": "python",
      "nbconvert_exporter": "python",
      "pygments_lexer": "ipython3",
      "version": "3.9.12"
    },
    "colab": {
      "provenance": [],
      "include_colab_link": true
    }
  },
  "nbformat": 4,
  "nbformat_minor": 0
}